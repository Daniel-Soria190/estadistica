{
 "cells": [
  {
   "cell_type": "code",
   "execution_count": 16,
   "metadata": {},
   "outputs": [
    {
     "data": {
      "text/plain": [
       "<module 'funciones' from '/home/daniel/Escritorio/UASLP/Estadistica_Aplicada/notebooks/Tarea1/funciones.py'>"
      ]
     },
     "execution_count": 16,
     "metadata": {},
     "output_type": "execute_result"
    }
   ],
   "source": [
    "import numpy as np\n",
    "# import scipy as scp\n",
    "import funciones as fn\n",
    "import importlib\n",
    "import seaborn as sns\n",
    "import matplotlib.pyplot as plt\n",
    "import pandas as pd\n",
    "import stemgraphic as stm\n",
    "\n",
    "importlib.reload(fn)"
   ]
  },
  {
   "cell_type": "markdown",
   "metadata": {},
   "source": [
    "# Tarea 1\n",
    "\n",
    "Por cuestiones mayores se enlaza la cuenta de github para seguir con el codigo\n",
    "https://github.com/Daniel-Soria190/estadistica\n",
    "\n",
    "## Sección 2.2\n",
    "\n",
    "**Página 25:**\n",
    "\n",
    "* 8. Los siguientes datos representan el tiempo (en meses) en el que un tumor progresa para 65 pacientes con un tipo especifico de tumor cerebral llamado \"glioblastoma\"\n",
    "\n",
    "$$6, 5, 37, 10, 22, 9, 2, 16, 3, 3, 11, 9, 5, 14, 11, 3, 1, 4, 6, 2, 7,\\\\\n",
    "3, 7, 5, 4, 8, 2, 7, 13, 16, 15, 9, 4, 4, 2, 3, 9, 5, 11, 3, 7, 5, 9,\\\\\n",
    "3, 8, 9, 4, 10, 3, 2, 7, 6, 9, 3, 5, 4, 6, 4, 14, 3, 12, 6, 8, 12, 7$$\n",
    "\n"
   ]
  },
  {
   "cell_type": "markdown",
   "metadata": {},
   "source": [
    "\n",
    "\n",
    "    a) Hacer una tabla de frecuencia relativa del conjunto de datos.\n"
   ]
  },
  {
   "cell_type": "code",
   "execution_count": 17,
   "metadata": {},
   "outputs": [
    {
     "data": {
      "text/html": [
       "<div>\n",
       "<style scoped>\n",
       "    .dataframe tbody tr th:only-of-type {\n",
       "        vertical-align: middle;\n",
       "    }\n",
       "\n",
       "    .dataframe tbody tr th {\n",
       "        vertical-align: top;\n",
       "    }\n",
       "\n",
       "    .dataframe thead th {\n",
       "        text-align: right;\n",
       "    }\n",
       "</style>\n",
       "<table border=\"1\" class=\"dataframe\">\n",
       "  <thead>\n",
       "    <tr style=\"text-align: right;\">\n",
       "      <th></th>\n",
       "      <th>Linf</th>\n",
       "      <th>Lsup</th>\n",
       "      <th>MarcaDeClase</th>\n",
       "      <th>FrecuenciaAbsoluta</th>\n",
       "      <th>FrecuenciaAcumulada</th>\n",
       "      <th>FrecuenciaRelativa</th>\n",
       "      <th>FRA</th>\n",
       "    </tr>\n",
       "  </thead>\n",
       "  <tbody>\n",
       "    <tr>\n",
       "      <th>0</th>\n",
       "      <td>1.000</td>\n",
       "      <td>5.625</td>\n",
       "      <td>3.3125</td>\n",
       "      <td>29.0</td>\n",
       "      <td>29.0</td>\n",
       "      <td>0.446154</td>\n",
       "      <td>0.446154</td>\n",
       "    </tr>\n",
       "    <tr>\n",
       "      <th>1</th>\n",
       "      <td>5.625</td>\n",
       "      <td>10.250</td>\n",
       "      <td>7.9375</td>\n",
       "      <td>23.0</td>\n",
       "      <td>52.0</td>\n",
       "      <td>0.353846</td>\n",
       "      <td>0.800000</td>\n",
       "    </tr>\n",
       "    <tr>\n",
       "      <th>2</th>\n",
       "      <td>10.250</td>\n",
       "      <td>14.875</td>\n",
       "      <td>12.5625</td>\n",
       "      <td>8.0</td>\n",
       "      <td>60.0</td>\n",
       "      <td>0.123077</td>\n",
       "      <td>0.923077</td>\n",
       "    </tr>\n",
       "    <tr>\n",
       "      <th>3</th>\n",
       "      <td>14.875</td>\n",
       "      <td>19.500</td>\n",
       "      <td>17.1875</td>\n",
       "      <td>3.0</td>\n",
       "      <td>63.0</td>\n",
       "      <td>0.046154</td>\n",
       "      <td>0.969231</td>\n",
       "    </tr>\n",
       "    <tr>\n",
       "      <th>4</th>\n",
       "      <td>19.500</td>\n",
       "      <td>24.125</td>\n",
       "      <td>21.8125</td>\n",
       "      <td>1.0</td>\n",
       "      <td>64.0</td>\n",
       "      <td>0.015385</td>\n",
       "      <td>0.984615</td>\n",
       "    </tr>\n",
       "    <tr>\n",
       "      <th>5</th>\n",
       "      <td>24.125</td>\n",
       "      <td>28.750</td>\n",
       "      <td>26.4375</td>\n",
       "      <td>0.0</td>\n",
       "      <td>64.0</td>\n",
       "      <td>0.000000</td>\n",
       "      <td>0.984615</td>\n",
       "    </tr>\n",
       "    <tr>\n",
       "      <th>6</th>\n",
       "      <td>28.750</td>\n",
       "      <td>33.375</td>\n",
       "      <td>31.0625</td>\n",
       "      <td>0.0</td>\n",
       "      <td>64.0</td>\n",
       "      <td>0.000000</td>\n",
       "      <td>0.984615</td>\n",
       "    </tr>\n",
       "    <tr>\n",
       "      <th>7</th>\n",
       "      <td>33.375</td>\n",
       "      <td>38.000</td>\n",
       "      <td>35.6875</td>\n",
       "      <td>1.0</td>\n",
       "      <td>65.0</td>\n",
       "      <td>0.015385</td>\n",
       "      <td>1.000000</td>\n",
       "    </tr>\n",
       "  </tbody>\n",
       "</table>\n",
       "</div>"
      ],
      "text/plain": [
       "     Linf    Lsup  MarcaDeClase  FrecuenciaAbsoluta  FrecuenciaAcumulada  \\\n",
       "0   1.000   5.625        3.3125                29.0                 29.0   \n",
       "1   5.625  10.250        7.9375                23.0                 52.0   \n",
       "2  10.250  14.875       12.5625                 8.0                 60.0   \n",
       "3  14.875  19.500       17.1875                 3.0                 63.0   \n",
       "4  19.500  24.125       21.8125                 1.0                 64.0   \n",
       "5  24.125  28.750       26.4375                 0.0                 64.0   \n",
       "6  28.750  33.375       31.0625                 0.0                 64.0   \n",
       "7  33.375  38.000       35.6875                 1.0                 65.0   \n",
       "\n",
       "   FrecuenciaRelativa       FRA  \n",
       "0            0.446154  0.446154  \n",
       "1            0.353846  0.800000  \n",
       "2            0.123077  0.923077  \n",
       "3            0.046154  0.969231  \n",
       "4            0.015385  0.984615  \n",
       "5            0.000000  0.984615  \n",
       "6            0.000000  0.984615  \n",
       "7            0.015385  1.000000  "
      ]
     },
     "execution_count": 17,
     "metadata": {},
     "output_type": "execute_result"
    }
   ],
   "source": [
    "datos = [6, 5, 37, 10, 22, 9, 2, 16, 3, 3, 11, 9, 5, 14, 11, 3, 1, 4, 6, 2, 7,3, 7, 5, 4, 8, 2, 7, 13, 16, 15, 9, 4, 4, 2, 3, 9, 5, 11, 3, 7, 5, 9,3, 8, 9, 4, 10, 3, 2, 7, 6, 9, 3, 5, 4, 6, 4, 14, 3, 12, 6, 8, 12, 7]\n",
    "\n",
    "dataFrame = fn.tabla(datos)\n",
    "dataFrame"
   ]
  },
  {
   "cell_type": "markdown",
   "metadata": {},
   "source": [
    "\n",
    "    b) Graficar las frecuencias relativas en un poligono de frecuencias\n",
    "    \n"
   ]
  },
  {
   "cell_type": "code",
   "execution_count": 18,
   "metadata": {},
   "outputs": [
    {
     "data": {
      "text/plain": [
       "<function matplotlib.pyplot.show(close=None, block=None)>"
      ]
     },
     "execution_count": 18,
     "metadata": {},
     "output_type": "execute_result"
    },
    {
     "data": {
      "image/png": "[encoded data removed]",
      "text/plain": [
       "<Figure size 640x480 with 1 Axes>"
      ]
     },
     "metadata": {},
     "output_type": "display_data"
    }
   ],
   "source": [
    "plt.figure()\n",
    "sns.lineplot(data=dataFrame, x='MarcaDeClase', y='FrecuenciaRelativa')\n",
    "sns.scatterplot(data=dataFrame, x='MarcaDeClase', y='FrecuenciaRelativa')\n",
    "plt.show\n"
   ]
  },
  {
   "cell_type": "markdown",
   "metadata": {},
   "source": [
    "\n",
    "    c) ¿El conjunto de datos es simetrico?\n",
    "\n",
    "No, está claramente sesgado, puede que la naturaleza de la enfermedad deteriore la salud de los pacientes en poco tiempo"
   ]
  },
  {
   "cell_type": "markdown",
   "metadata": {},
   "source": [
    "* 12: Hacer la tabla de frecuencia relativa para el numero de dias promedio en enero para las diferentes ciudades, despues, graficalo en un poligono de frecuencias."
   ]
  },
  {
   "cell_type": "code",
   "execution_count": 19,
   "metadata": {},
   "outputs": [
    {
     "data": {
      "text/html": [
       "<div>\n",
       "<style scoped>\n",
       "    .dataframe tbody tr th:only-of-type {\n",
       "        vertical-align: middle;\n",
       "    }\n",
       "\n",
       "    .dataframe tbody tr th {\n",
       "        vertical-align: top;\n",
       "    }\n",
       "\n",
       "    .dataframe thead th {\n",
       "        text-align: right;\n",
       "    }\n",
       "</style>\n",
       "<table border=\"1\" class=\"dataframe\">\n",
       "  <thead>\n",
       "    <tr style=\"text-align: right;\">\n",
       "      <th></th>\n",
       "      <th>Linf</th>\n",
       "      <th>Lsup</th>\n",
       "      <th>MarcaDeClase</th>\n",
       "      <th>FrecuenciaAbsoluta</th>\n",
       "      <th>FrecuenciaAcumulada</th>\n",
       "      <th>FrecuenciaRelativa</th>\n",
       "      <th>FRA</th>\n",
       "    </tr>\n",
       "  </thead>\n",
       "  <tbody>\n",
       "    <tr>\n",
       "      <th>0</th>\n",
       "      <td>4.000</td>\n",
       "      <td>6.125</td>\n",
       "      <td>5.0625</td>\n",
       "      <td>12.0</td>\n",
       "      <td>12.0</td>\n",
       "      <td>0.169014</td>\n",
       "      <td>0.169014</td>\n",
       "    </tr>\n",
       "    <tr>\n",
       "      <th>1</th>\n",
       "      <td>6.125</td>\n",
       "      <td>8.250</td>\n",
       "      <td>7.1875</td>\n",
       "      <td>7.0</td>\n",
       "      <td>19.0</td>\n",
       "      <td>0.098592</td>\n",
       "      <td>0.267606</td>\n",
       "    </tr>\n",
       "    <tr>\n",
       "      <th>2</th>\n",
       "      <td>8.250</td>\n",
       "      <td>10.375</td>\n",
       "      <td>9.3125</td>\n",
       "      <td>17.0</td>\n",
       "      <td>36.0</td>\n",
       "      <td>0.239437</td>\n",
       "      <td>0.507042</td>\n",
       "    </tr>\n",
       "    <tr>\n",
       "      <th>3</th>\n",
       "      <td>10.375</td>\n",
       "      <td>12.500</td>\n",
       "      <td>11.4375</td>\n",
       "      <td>22.0</td>\n",
       "      <td>58.0</td>\n",
       "      <td>0.309859</td>\n",
       "      <td>0.816901</td>\n",
       "    </tr>\n",
       "    <tr>\n",
       "      <th>4</th>\n",
       "      <td>12.500</td>\n",
       "      <td>14.625</td>\n",
       "      <td>13.5625</td>\n",
       "      <td>4.0</td>\n",
       "      <td>62.0</td>\n",
       "      <td>0.056338</td>\n",
       "      <td>0.873239</td>\n",
       "    </tr>\n",
       "    <tr>\n",
       "      <th>5</th>\n",
       "      <td>14.625</td>\n",
       "      <td>16.750</td>\n",
       "      <td>15.6875</td>\n",
       "      <td>4.0</td>\n",
       "      <td>66.0</td>\n",
       "      <td>0.056338</td>\n",
       "      <td>0.929577</td>\n",
       "    </tr>\n",
       "    <tr>\n",
       "      <th>6</th>\n",
       "      <td>16.750</td>\n",
       "      <td>18.875</td>\n",
       "      <td>17.8125</td>\n",
       "      <td>2.0</td>\n",
       "      <td>68.0</td>\n",
       "      <td>0.028169</td>\n",
       "      <td>0.957746</td>\n",
       "    </tr>\n",
       "    <tr>\n",
       "      <th>7</th>\n",
       "      <td>18.875</td>\n",
       "      <td>21.000</td>\n",
       "      <td>19.9375</td>\n",
       "      <td>3.0</td>\n",
       "      <td>71.0</td>\n",
       "      <td>0.042254</td>\n",
       "      <td>1.000000</td>\n",
       "    </tr>\n",
       "  </tbody>\n",
       "</table>\n",
       "</div>"
      ],
      "text/plain": [
       "     Linf    Lsup  MarcaDeClase  FrecuenciaAbsoluta  FrecuenciaAcumulada  \\\n",
       "0   4.000   6.125        5.0625                12.0                 12.0   \n",
       "1   6.125   8.250        7.1875                 7.0                 19.0   \n",
       "2   8.250  10.375        9.3125                17.0                 36.0   \n",
       "3  10.375  12.500       11.4375                22.0                 58.0   \n",
       "4  12.500  14.625       13.5625                 4.0                 62.0   \n",
       "5  14.625  16.750       15.6875                 4.0                 66.0   \n",
       "6  16.750  18.875       17.8125                 2.0                 68.0   \n",
       "7  18.875  21.000       19.9375                 3.0                 71.0   \n",
       "\n",
       "   FrecuenciaRelativa       FRA  \n",
       "0            0.169014  0.169014  \n",
       "1            0.098592  0.267606  \n",
       "2            0.239437  0.507042  \n",
       "3            0.309859  0.816901  \n",
       "4            0.056338  0.873239  \n",
       "5            0.056338  0.929577  \n",
       "6            0.028169  0.957746  \n",
       "7            0.042254  1.000000  "
      ]
     },
     "execution_count": 19,
     "metadata": {},
     "output_type": "execute_result"
    }
   ],
   "source": [
    "datos = pd.read_csv('rain.csv')\n",
    "dataFrame = fn.tabla(datos['Jan'])\n",
    "dataFrame"
   ]
  },
  {
   "cell_type": "code",
   "execution_count": 20,
   "metadata": {},
   "outputs": [
    {
     "data": {
      "text/plain": [
       "<function matplotlib.pyplot.show(close=None, block=None)>"
      ]
     },
     "execution_count": 20,
     "metadata": {},
     "output_type": "execute_result"
    },
    {
     "data": {
      "image/png": "[encoded data removed]",
      "text/plain": [
       "<Figure size 640x480 with 1 Axes>"
      ]
     },
     "metadata": {},
     "output_type": "display_data"
    }
   ],
   "source": [
    "plt.figure()\n",
    "sns.lineplot(data=dataFrame, x='MarcaDeClase', y='FrecuenciaRelativa')\n",
    "sns.scatterplot(data=dataFrame, x='MarcaDeClase', y='FrecuenciaRelativa')\n",
    "plt.show"
   ]
  },
  {
   "cell_type": "markdown",
   "metadata": {},
   "source": [
    "## Sección 2.3\n",
    "\n",
    "1. Los siguientes datos representan el coeficiente intelectual de 40 alumnos de sexto grado en una escuela particular.\n",
    "$$114, 122, 103, 118, 99, 105, 134, 125, 117, 106, 109, 104, 111, 127,\\\\\n",
    "133, 111, 117, 103, 120, 98, 100, 130, 141, 119, 128, 106, 109, 115,\\\\\n",
    "113, 121, 100, 130, 125, 117, 119, 113, 104, 108, 110, 102$$\n",
    "\n",
    "a) Representa los datos en un histograma de frecuencia."
   ]
  },
  {
   "cell_type": "code",
   "execution_count": 21,
   "metadata": {},
   "outputs": [
    {
     "data": {
      "text/html": [
       "<div>\n",
       "<style scoped>\n",
       "    .dataframe tbody tr th:only-of-type {\n",
       "        vertical-align: middle;\n",
       "    }\n",
       "\n",
       "    .dataframe tbody tr th {\n",
       "        vertical-align: top;\n",
       "    }\n",
       "\n",
       "    .dataframe thead th {\n",
       "        text-align: right;\n",
       "    }\n",
       "</style>\n",
       "<table border=\"1\" class=\"dataframe\">\n",
       "  <thead>\n",
       "    <tr style=\"text-align: right;\">\n",
       "      <th></th>\n",
       "      <th>Linf</th>\n",
       "      <th>Lsup</th>\n",
       "      <th>MarcaDeClase</th>\n",
       "      <th>FrecuenciaAbsoluta</th>\n",
       "      <th>FrecuenciaAcumulada</th>\n",
       "      <th>FrecuenciaRelativa</th>\n",
       "      <th>FRA</th>\n",
       "    </tr>\n",
       "  </thead>\n",
       "  <tbody>\n",
       "    <tr>\n",
       "      <th>0</th>\n",
       "      <td>98.000000</td>\n",
       "      <td>105.333333</td>\n",
       "      <td>101.666667</td>\n",
       "      <td>10.0</td>\n",
       "      <td>10.0</td>\n",
       "      <td>0.250</td>\n",
       "      <td>0.250</td>\n",
       "    </tr>\n",
       "    <tr>\n",
       "      <th>1</th>\n",
       "      <td>105.333333</td>\n",
       "      <td>112.666667</td>\n",
       "      <td>109.000000</td>\n",
       "      <td>8.0</td>\n",
       "      <td>18.0</td>\n",
       "      <td>0.200</td>\n",
       "      <td>0.450</td>\n",
       "    </tr>\n",
       "    <tr>\n",
       "      <th>2</th>\n",
       "      <td>112.666667</td>\n",
       "      <td>120.000000</td>\n",
       "      <td>116.333333</td>\n",
       "      <td>10.0</td>\n",
       "      <td>28.0</td>\n",
       "      <td>0.250</td>\n",
       "      <td>0.700</td>\n",
       "    </tr>\n",
       "    <tr>\n",
       "      <th>3</th>\n",
       "      <td>120.000000</td>\n",
       "      <td>127.333333</td>\n",
       "      <td>123.666667</td>\n",
       "      <td>6.0</td>\n",
       "      <td>34.0</td>\n",
       "      <td>0.150</td>\n",
       "      <td>0.850</td>\n",
       "    </tr>\n",
       "    <tr>\n",
       "      <th>4</th>\n",
       "      <td>127.333333</td>\n",
       "      <td>134.666667</td>\n",
       "      <td>131.000000</td>\n",
       "      <td>5.0</td>\n",
       "      <td>39.0</td>\n",
       "      <td>0.125</td>\n",
       "      <td>0.975</td>\n",
       "    </tr>\n",
       "    <tr>\n",
       "      <th>5</th>\n",
       "      <td>134.666667</td>\n",
       "      <td>142.000000</td>\n",
       "      <td>138.333333</td>\n",
       "      <td>1.0</td>\n",
       "      <td>40.0</td>\n",
       "      <td>0.025</td>\n",
       "      <td>1.000</td>\n",
       "    </tr>\n",
       "  </tbody>\n",
       "</table>\n",
       "</div>"
      ],
      "text/plain": [
       "         Linf        Lsup  MarcaDeClase  FrecuenciaAbsoluta  \\\n",
       "0   98.000000  105.333333    101.666667                10.0   \n",
       "1  105.333333  112.666667    109.000000                 8.0   \n",
       "2  112.666667  120.000000    116.333333                10.0   \n",
       "3  120.000000  127.333333    123.666667                 6.0   \n",
       "4  127.333333  134.666667    131.000000                 5.0   \n",
       "5  134.666667  142.000000    138.333333                 1.0   \n",
       "\n",
       "   FrecuenciaAcumulada  FrecuenciaRelativa    FRA  \n",
       "0                 10.0               0.250  0.250  \n",
       "1                 18.0               0.200  0.450  \n",
       "2                 28.0               0.250  0.700  \n",
       "3                 34.0               0.150  0.850  \n",
       "4                 39.0               0.125  0.975  \n",
       "5                 40.0               0.025  1.000  "
      ]
     },
     "execution_count": 21,
     "metadata": {},
     "output_type": "execute_result"
    }
   ],
   "source": [
    "datos = [114, 122, 103, 118, 99, 105, 134, 125, 117, 106, 109, 104, 111, 127,\n",
    "133, 111, 117, 103, 120, 98, 100, 130, 141, 119, 128, 106, 109, 115,\n",
    "113, 121, 100, 130, 125, 117, 119, 113, 104, 108, 110, 102]\n",
    "\n",
    "dataFrame = fn.tabla(datos)\n",
    "dataFrame"
   ]
  },
  {
   "cell_type": "code",
   "execution_count": 22,
   "metadata": {},
   "outputs": [
    {
     "data": {
      "image/png": "[encoded data removed]",
      "text/plain": [
       "<Figure size 640x480 with 1 Axes>"
      ]
     },
     "metadata": {},
     "output_type": "display_data"
    }
   ],
   "source": [
    "\n",
    "\n",
    "plt.figure()\n",
    "plt.title('Histograma de frecuencias')\n",
    "sns.histplot(datos)\n",
    "plt.show()"
   ]
  },
  {
   "cell_type": "markdown",
   "metadata": {},
   "source": [
    "\n",
    "\n",
    "b) ¿Cual intervalo contiene los mejores resultados?\n",
    "\n",
    "El intervalo de $132.\\bar{6} - 142$ contiene el mejor resultado (141)\n",
    "c) ¿Hay una cantidad similar de datos entre intervalos?\n",
    "\n",
    "En la tabla de datos agrupados y en el histograma no se alcanza a ver una distribucion homogenea de los datos\n",
    "\n",
    "d) ¿El histograma parece ser simetrico? de ser así, ¿Sobre que intervalo empieza a serlo?\n",
    "No lo es"
   ]
  },
  {
   "cell_type": "markdown",
   "metadata": {},
   "source": [
    "2. Los siguientes datos representan la temperatura maxima ($\\degree$C) en San Francisco el 4 de Julio durante 30 años\n",
    "\n",
    "$$22.8, 26.2, 31.7, 31.1, 26.9, 28.0, 29.4, 28.8, 26.7, 27.4, 28.2,\\\\\n",
    "30.3, 29.5, 28.9, 27.5, 28.3, 24.1, 25.3, 28.5, 27.7, 24.4,\\\\\n",
    "29.2, 30.3, 33.7, 27.5, 29.3, 30.2, 28.5, 32.2, 33.7$$\n",
    "\n",
    "a) Representa los datos en un histograma de frecuencia\n"
   ]
  },
  {
   "cell_type": "code",
   "execution_count": 23,
   "metadata": {},
   "outputs": [
    {
     "data": {
      "text/plain": [
       "<function matplotlib.pyplot.show(close=None, block=None)>"
      ]
     },
     "execution_count": 23,
     "metadata": {},
     "output_type": "execute_result"
    },
    {
     "data": {
      "image/png": "[encoded data removed]",
      "text/plain": [
       "<Figure size 640x480 with 1 Axes>"
      ]
     },
     "metadata": {},
     "output_type": "display_data"
    }
   ],
   "source": [
    "datos = [22.8, 26.2, 31.7, 31.1, 26.9, 28.0, 29.4, 28.8, 26.7, 27.4, 28.2,\n",
    "30.3, 29.5, 28.9, 27.5, 28.3, 24.1, 25.3, 28.5, 27.7, 24.4,\n",
    "29.2, 30.3, 33.7, 27.5, 29.3, 30.2, 28.5, 32.2, 33.7]\n",
    "\n",
    "plt.figure()\n",
    "sns.histplot(datos)\n",
    "plt.show\n"
   ]
  },
  {
   "cell_type": "markdown",
   "metadata": {},
   "source": [
    "b) Cual es la temperatura tipica en un 4 de Julio en San francisco.\n",
    "La temperatura tipica ronda los 28$\\degree$C\n",
    "\n",
    "c) ¿Que otras conclusiones puedes extraer del histograma\n",
    "Que la temperatura suele estar entre 26 y 30 grados, la distribución se aproxima a la normal y el sesgo es bajo"
   ]
  },
  {
   "cell_type": "markdown",
   "metadata": {},
   "source": [
    "3. Los siguientes datos (en cientos de dolares) representan el ingreso neto anual de una muestra de contribuyentes\n",
    "\n",
    "$$47, 55, 18, 24, 27, 41, 50, 38, 33, 29, 15, 77, 64, 22, 19, 35, 39, 41,\\\\\n",
    "67, 55, 121, 77, 80, 34, 41, 48, 60, 30, 22, 28, 84, 55, 26, 105, 62,\\\\\n",
    "30, 17, 23, 31, 28, 56, 64, 88, 104, 115, 39, 25, 18, 21, 30, 57, 40,\\\\\n",
    "38, 29, 19, 46, 40, 49, 72, 70, 37, 39, 18, 22, 29, 52, 94, 86, 23, 36$$\n",
    "\n",
    "a) Grafica el histograma de frecuencias usando 5 clases"
   ]
  },
  {
   "cell_type": "code",
   "execution_count": 24,
   "metadata": {},
   "outputs": [
    {
     "data": {
      "image/png": "[encoded data removed]",
      "text/plain": [
       "<Figure size 640x480 with 1 Axes>"
      ]
     },
     "metadata": {},
     "output_type": "display_data"
    }
   ],
   "source": [
    "data = [47, 55, 18, 24, 27, 41, 50, 38, 33, 29, 15, 77, 64, 22, 19, 35, 39, 41,\n",
    "67, 55, 121, 77, 80, 34, 41, 48, 60, 30, 22, 28, 84, 55, 26, 105, 62,\n",
    "30, 17, 23, 31, 28, 56, 64, 88, 104, 115, 39, 25, 18, 21, 30, 57, 40,\n",
    "38, 29, 19, 46, 40, 49, 72, 70, 37, 39, 18, 22, 29, 52, 94, 86, 23, 36]\n",
    "\n",
    "dataFrame = fn.tabla(data,5)\n",
    "\n",
    "plt.figure()\n",
    "plt.bar(dataFrame['MarcaDeClase'], dataFrame['FrecuenciaAbsoluta'],20)\n",
    "plt.show()"
   ]
  },
  {
   "cell_type": "markdown",
   "metadata": {},
   "source": [
    "\n",
    "b) Grafica el histograma de frecuencias usando 10 clases"
   ]
  },
  {
   "cell_type": "code",
   "execution_count": 25,
   "metadata": {},
   "outputs": [
    {
     "data": {
      "image/png": "[encoded data removed]",
      "text/plain": [
       "<Figure size 640x480 with 1 Axes>"
      ]
     },
     "metadata": {},
     "output_type": "display_data"
    }
   ],
   "source": [
    "dataFrame = fn.tabla(data,10)\n",
    "\n",
    "plt.figure()\n",
    "plt.bar(dataFrame['MarcaDeClase'], dataFrame['FrecuenciaAbsoluta'],10)\n",
    "plt.show()"
   ]
  },
  {
   "cell_type": "markdown",
   "metadata": {},
   "source": [
    "c) ¿Cual histograma crees que da mas información?\n",
    "El segundo histograma deja mas en claro que sector de población paga mas impuestos, si hubiera mas datos el aumento de las clases favorece la interpretación."
   ]
  },
  {
   "cell_type": "markdown",
   "metadata": {},
   "source": [
    "7. Considera los niveles de colesterol de los primeros 100 estudiantes en el data set, dividelos por sexo y genera su tabla de frecuencia, grafica los poligonos de frecuencia de ambos sexos en la misma figura.\n",
    "¿Que conslusiones puedes obtener sobre la relación entre el nivel de colesterol y sexo?"
   ]
  },
  {
   "cell_type": "code",
   "execution_count": 26,
   "metadata": {},
   "outputs": [
    {
     "data": {
      "text/html": [
       "<div>\n",
       "<style scoped>\n",
       "    .dataframe tbody tr th:only-of-type {\n",
       "        vertical-align: middle;\n",
       "    }\n",
       "\n",
       "    .dataframe tbody tr th {\n",
       "        vertical-align: top;\n",
       "    }\n",
       "\n",
       "    .dataframe thead th {\n",
       "        text-align: right;\n",
       "    }\n",
       "</style>\n",
       "<table border=\"1\" class=\"dataframe\">\n",
       "  <thead>\n",
       "    <tr style=\"text-align: right;\">\n",
       "      <th></th>\n",
       "      <th>Linf</th>\n",
       "      <th>Lsup</th>\n",
       "      <th>MarcaDeClase</th>\n",
       "      <th>FrecuenciaAbsoluta</th>\n",
       "      <th>FrecuenciaAcumulada</th>\n",
       "      <th>FrecuenciaRelativa</th>\n",
       "      <th>FRA</th>\n",
       "    </tr>\n",
       "  </thead>\n",
       "  <tbody>\n",
       "    <tr>\n",
       "      <th>0</th>\n",
       "      <td>171.000000</td>\n",
       "      <td>179.142857</td>\n",
       "      <td>175.071429</td>\n",
       "      <td>4.0</td>\n",
       "      <td>4.0</td>\n",
       "      <td>0.074074</td>\n",
       "      <td>0.074074</td>\n",
       "    </tr>\n",
       "    <tr>\n",
       "      <th>1</th>\n",
       "      <td>179.142857</td>\n",
       "      <td>187.285714</td>\n",
       "      <td>183.214286</td>\n",
       "      <td>9.0</td>\n",
       "      <td>13.0</td>\n",
       "      <td>0.166667</td>\n",
       "      <td>0.240741</td>\n",
       "    </tr>\n",
       "    <tr>\n",
       "      <th>2</th>\n",
       "      <td>187.285714</td>\n",
       "      <td>195.428571</td>\n",
       "      <td>191.357143</td>\n",
       "      <td>15.0</td>\n",
       "      <td>28.0</td>\n",
       "      <td>0.277778</td>\n",
       "      <td>0.518519</td>\n",
       "    </tr>\n",
       "    <tr>\n",
       "      <th>3</th>\n",
       "      <td>195.428571</td>\n",
       "      <td>203.571429</td>\n",
       "      <td>199.500000</td>\n",
       "      <td>12.0</td>\n",
       "      <td>40.0</td>\n",
       "      <td>0.222222</td>\n",
       "      <td>0.740741</td>\n",
       "    </tr>\n",
       "    <tr>\n",
       "      <th>4</th>\n",
       "      <td>203.571429</td>\n",
       "      <td>211.714286</td>\n",
       "      <td>207.642857</td>\n",
       "      <td>5.0</td>\n",
       "      <td>45.0</td>\n",
       "      <td>0.092593</td>\n",
       "      <td>0.833333</td>\n",
       "    </tr>\n",
       "    <tr>\n",
       "      <th>5</th>\n",
       "      <td>211.714286</td>\n",
       "      <td>219.857143</td>\n",
       "      <td>215.785714</td>\n",
       "      <td>6.0</td>\n",
       "      <td>51.0</td>\n",
       "      <td>0.111111</td>\n",
       "      <td>0.944444</td>\n",
       "    </tr>\n",
       "    <tr>\n",
       "      <th>6</th>\n",
       "      <td>219.857143</td>\n",
       "      <td>228.000000</td>\n",
       "      <td>223.928571</td>\n",
       "      <td>3.0</td>\n",
       "      <td>54.0</td>\n",
       "      <td>0.055556</td>\n",
       "      <td>1.000000</td>\n",
       "    </tr>\n",
       "  </tbody>\n",
       "</table>\n",
       "</div>"
      ],
      "text/plain": [
       "         Linf        Lsup  MarcaDeClase  FrecuenciaAbsoluta  \\\n",
       "0  171.000000  179.142857    175.071429                 4.0   \n",
       "1  179.142857  187.285714    183.214286                 9.0   \n",
       "2  187.285714  195.428571    191.357143                15.0   \n",
       "3  195.428571  203.571429    199.500000                12.0   \n",
       "4  203.571429  211.714286    207.642857                 5.0   \n",
       "5  211.714286  219.857143    215.785714                 6.0   \n",
       "6  219.857143  228.000000    223.928571                 3.0   \n",
       "\n",
       "   FrecuenciaAcumulada  FrecuenciaRelativa       FRA  \n",
       "0                  4.0            0.074074  0.074074  \n",
       "1                 13.0            0.166667  0.240741  \n",
       "2                 28.0            0.277778  0.518519  \n",
       "3                 40.0            0.222222  0.740741  \n",
       "4                 45.0            0.092593  0.833333  \n",
       "5                 51.0            0.111111  0.944444  \n",
       "6                 54.0            0.055556  1.000000  "
      ]
     },
     "execution_count": 26,
     "metadata": {},
     "output_type": "execute_result"
    }
   ],
   "source": [
    "datos = pd.read_csv('students.csv')\n",
    "\n",
    "estudiantes  = datos[datos['Student']<101].drop(['Weight','Pressure','Student'],axis=1)\n",
    "\n",
    "hombres, mujeres = estudiantes.groupby(estudiantes.Gender).get_group(\"M\").drop(['Gender'],axis=1), estudiantes.groupby(estudiantes.Gender).get_group(\"F\").drop(['Gender'],axis=1)\n",
    "\n",
    "cH, cM = fn.tabla(hombres['Cholesterol'].array), fn.tabla(mujeres['Cholesterol'].array)\n",
    "cH"
   ]
  },
  {
   "cell_type": "code",
   "execution_count": 27,
   "metadata": {},
   "outputs": [
    {
     "data": {
      "text/html": [
       "<div>\n",
       "<style scoped>\n",
       "    .dataframe tbody tr th:only-of-type {\n",
       "        vertical-align: middle;\n",
       "    }\n",
       "\n",
       "    .dataframe tbody tr th {\n",
       "        vertical-align: top;\n",
       "    }\n",
       "\n",
       "    .dataframe thead th {\n",
       "        text-align: right;\n",
       "    }\n",
       "</style>\n",
       "<table border=\"1\" class=\"dataframe\">\n",
       "  <thead>\n",
       "    <tr style=\"text-align: right;\">\n",
       "      <th></th>\n",
       "      <th>Linf</th>\n",
       "      <th>Lsup</th>\n",
       "      <th>MarcaDeClase</th>\n",
       "      <th>FrecuenciaAbsoluta</th>\n",
       "      <th>FrecuenciaAcumulada</th>\n",
       "      <th>FrecuenciaRelativa</th>\n",
       "      <th>FRA</th>\n",
       "    </tr>\n",
       "  </thead>\n",
       "  <tbody>\n",
       "    <tr>\n",
       "      <th>0</th>\n",
       "      <td>183.000000</td>\n",
       "      <td>189.833333</td>\n",
       "      <td>186.416667</td>\n",
       "      <td>5.0</td>\n",
       "      <td>5.0</td>\n",
       "      <td>0.108696</td>\n",
       "      <td>0.108696</td>\n",
       "    </tr>\n",
       "    <tr>\n",
       "      <th>1</th>\n",
       "      <td>189.833333</td>\n",
       "      <td>196.666667</td>\n",
       "      <td>193.250000</td>\n",
       "      <td>12.0</td>\n",
       "      <td>17.0</td>\n",
       "      <td>0.260870</td>\n",
       "      <td>0.369565</td>\n",
       "    </tr>\n",
       "    <tr>\n",
       "      <th>2</th>\n",
       "      <td>196.666667</td>\n",
       "      <td>203.500000</td>\n",
       "      <td>200.083333</td>\n",
       "      <td>10.0</td>\n",
       "      <td>27.0</td>\n",
       "      <td>0.217391</td>\n",
       "      <td>0.586957</td>\n",
       "    </tr>\n",
       "    <tr>\n",
       "      <th>3</th>\n",
       "      <td>203.500000</td>\n",
       "      <td>210.333333</td>\n",
       "      <td>206.916667</td>\n",
       "      <td>7.0</td>\n",
       "      <td>34.0</td>\n",
       "      <td>0.152174</td>\n",
       "      <td>0.739130</td>\n",
       "    </tr>\n",
       "    <tr>\n",
       "      <th>4</th>\n",
       "      <td>210.333333</td>\n",
       "      <td>217.166667</td>\n",
       "      <td>213.750000</td>\n",
       "      <td>8.0</td>\n",
       "      <td>42.0</td>\n",
       "      <td>0.173913</td>\n",
       "      <td>0.913043</td>\n",
       "    </tr>\n",
       "    <tr>\n",
       "      <th>5</th>\n",
       "      <td>217.166667</td>\n",
       "      <td>224.000000</td>\n",
       "      <td>220.583333</td>\n",
       "      <td>4.0</td>\n",
       "      <td>46.0</td>\n",
       "      <td>0.086957</td>\n",
       "      <td>1.000000</td>\n",
       "    </tr>\n",
       "  </tbody>\n",
       "</table>\n",
       "</div>"
      ],
      "text/plain": [
       "         Linf        Lsup  MarcaDeClase  FrecuenciaAbsoluta  \\\n",
       "0  183.000000  189.833333    186.416667                 5.0   \n",
       "1  189.833333  196.666667    193.250000                12.0   \n",
       "2  196.666667  203.500000    200.083333                10.0   \n",
       "3  203.500000  210.333333    206.916667                 7.0   \n",
       "4  210.333333  217.166667    213.750000                 8.0   \n",
       "5  217.166667  224.000000    220.583333                 4.0   \n",
       "\n",
       "   FrecuenciaAcumulada  FrecuenciaRelativa       FRA  \n",
       "0                  5.0            0.108696  0.108696  \n",
       "1                 17.0            0.260870  0.369565  \n",
       "2                 27.0            0.217391  0.586957  \n",
       "3                 34.0            0.152174  0.739130  \n",
       "4                 42.0            0.173913  0.913043  \n",
       "5                 46.0            0.086957  1.000000  "
      ]
     },
     "execution_count": 27,
     "metadata": {},
     "output_type": "execute_result"
    }
   ],
   "source": [
    "cM"
   ]
  },
  {
   "cell_type": "code",
   "execution_count": 28,
   "metadata": {},
   "outputs": [
    {
     "data": {
      "image/png": "[encoded data removed]",
      "text/plain": [
       "<Figure size 640x480 with 1 Axes>"
      ]
     },
     "metadata": {},
     "output_type": "display_data"
    }
   ],
   "source": [
    "plt.figure()\n",
    "\n",
    "sns.lineplot(cH,x='MarcaDeClase',y='FrecuenciaAbsoluta')\n",
    "sns.lineplot(cM,x='MarcaDeClase',y='FrecuenciaAbsoluta')\n",
    "\n",
    "sns.scatterplot(cH,x='MarcaDeClase',y='FrecuenciaAbsoluta')\n",
    "sns.scatterplot(cM,x='MarcaDeClase',y='FrecuenciaAbsoluta')\n",
    "\n",
    "plt.show()"
   ]
  },
  {
   "cell_type": "markdown",
   "metadata": {},
   "source": [
    "Una conclusión que se podria extraer es el rango normal de los niveles de colesterol para los seres humanos, tambien se podria inferir que los hombres tienen un rango más amplio que el de las mujeres"
   ]
  },
  {
   "cell_type": "markdown",
   "metadata": {},
   "source": [
    "## Sección 2.4\n",
    "\n",
    " 1. Para los siguientes datos dibuja el grafico de tallo y hojas con 4 y 8 tallos\n",
    " $$124, 129, 118, 135, 114, 139, 127, 141, 111, 144, 133, 127,\\\\\n",
    "122, 119, 132, 137, 146, 122, 119, 115, 125, 132, 118, 126,\\\\\n",
    "134, 147, 122, 119, 116, 125, 128, 130, 127, 135, 122, 141$$"
   ]
  },
  {
   "cell_type": "code",
   "execution_count": 29,
   "metadata": {},
   "outputs": [
    {
     "name": "stdout",
     "output_type": "stream",
     "text": [
      "111\n",
      "    ¡\n",
      " 11 | 145688999\n",
      " 12 | 2222455677789\n",
      " 13 | 022345579\n",
      " 14 | 11467\n",
      "    !\n",
      "147\n",
      "\n",
      "\n",
      "111\n",
      "    ¡\n",
      " 11 | 14\n",
      "    | 5688999\n",
      " 12 | 22224\n",
      "    | 55677789\n",
      " 13 | 02234\n",
      "    | 5579\n",
      " 14 | 114\n",
      "    | 67\n",
      "    !\n",
      "147\n"
     ]
    }
   ],
   "source": [
    "datos = [124, 129, 118, 135, 114, 139, 127, 141, 111, 144, 133, 127,\n",
    "122, 119, 132, 137, 146, 122, 119, 115, 125, 132, 118, 126,\n",
    "134, 147, 122, 119, 116, 125, 128, 130, 127, 135, 122, 141]\n",
    "\n",
    "stm.stem_text(datos,break_on=8,legend_pos=None)\n",
    "print('\\n')\n",
    "stm.stem_text(datos,legend_pos=None)\n"
   ]
  },
  {
   "cell_type": "markdown",
   "metadata": {},
   "source": [
    "Los siguientes datos representan los ingresos diarios de los parquimetros (en $5000) durante 30 dias en 2002\n",
    "$$108, 77, 58, 88, 65, 52, 104, 75, 80, 83, 74, 68, 94, 97, 83,\\\\\n",
    "71, 78, 83, 90, 79, 84, 81, 68, 57, 59, 32, 75, 93, 100, 88$$\n",
    "\n",
    "a) representa los datos en un grafico de tallos y hojas"
   ]
  },
  {
   "cell_type": "code",
   "execution_count": 30,
   "metadata": {},
   "outputs": [
    {
     "name": "stdout",
     "output_type": "stream",
     "text": [
      "32\n",
      "    ¡\n",
      "  3 | 2\n",
      "  4 |\n",
      "  5 | 2789\n",
      "  6 | 588\n",
      "  7 | 1455789\n",
      "  8 | 01333488\n",
      "  9 | 0347\n",
      " 10 | 048\n",
      "    !\n",
      "108\n"
     ]
    }
   ],
   "source": [
    "datos = [108, 77, 58, 88, 65, 52, 104, 75, 80, 83, 74, 68, 94, 97, 83,\n",
    "71, 78, 83, 90, 79, 84, 81, 68, 57, 59, 32, 75, 93, 100, 88]\n",
    "\n",
    "stm.stem_text(datos,legend_pos=None)"
   ]
  },
  {
   "cell_type": "markdown",
   "metadata": {},
   "source": [
    "b) ¿Alguno de los datos se ve sospechoso?¿Por qué?\n",
    "El ingreso mas bajo se encuentra algo alejado de los demas datos, puede ser un dato atipico"
   ]
  }
 ],
 "metadata": {
  "kernelspec": {
   "display_name": "progra",
   "language": "python",
   "name": "python3"
  },
  "language_info": {
   "codemirror_mode": {
    "name": "ipython",
    "version": 3
   },
   "file_extension": ".py",
   "mimetype": "text/x-python",
   "name": "python",
   "nbconvert_exporter": "python",
   "pygments_lexer": "ipython3",
   "version": "3.9.16"
  }
 },
 "nbformat": 4,
 "nbformat_minor": 2
}
